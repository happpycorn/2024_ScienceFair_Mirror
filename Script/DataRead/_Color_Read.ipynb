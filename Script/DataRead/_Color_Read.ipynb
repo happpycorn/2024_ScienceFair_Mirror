{
 "cells": [
  {
   "cell_type": "markdown",
   "metadata": {},
   "source": [
    "### import"
   ]
  },
  {
   "cell_type": "code",
   "execution_count": 17,
   "metadata": {},
   "outputs": [],
   "source": [
    "import os\n",
    "import numpy as np\n",
    "import pandas as pd"
   ]
  },
  {
   "cell_type": "markdown",
   "metadata": {},
   "source": [
    "### load"
   ]
  },
  {
   "cell_type": "code",
   "execution_count": 3,
   "metadata": {},
   "outputs": [],
   "source": [
    "FOLDER = r'C:\\Users\\happp\\Documents\\2024_ScienceFair_Mirror'\n",
    "\n",
    "exp_types = ['21', '22', '23', '3', '6']"
   ]
  },
  {
   "cell_type": "code",
   "execution_count": 14,
   "metadata": {},
   "outputs": [],
   "source": [
    "datas = [np.load(os.path.join(FOLDER, f\"PreprocessData\\\\data_c{f}.npy\"), allow_pickle=True).item() for f in exp_types]"
   ]
  },
  {
   "cell_type": "code",
   "execution_count": 18,
   "metadata": {},
   "outputs": [
    {
     "name": "stdout",
     "output_type": "stream",
     "text": [
      "b 0.08391288293845317\n",
      "c 0.16909344550653593\n",
      "g 0.08396002856753812\n",
      "p 0.16686529153050111\n",
      "r 0.08335602457788671\n",
      "w 0.25390839481209154\n",
      "y 0.1675603705882353\n",
      "b 0.13370808272058826\n",
      "c 0.26615449063180824\n",
      "g 0.1328713392156863\n",
      "p 0.26676263033769065\n",
      "r 0.13292077706971678\n",
      "w 0.40113437467320257\n",
      "y 0.26657684033224394\n",
      "b 0.15098539468954247\n",
      "c 0.3031286983115468\n",
      "g 0.15120452741013074\n",
      "p 0.3027755170751634\n",
      "r 0.15090808533496733\n",
      "w 0.4537009648692811\n",
      "y 0.3029280345043573\n",
      "1 0.17519646229575164\n",
      "2 0.31782256367102396\n",
      "3 0.3874430169117647\n",
      "1 0.20125046574074074\n",
      "2 0.350309188916122\n",
      "3 0.1992482073801743\n"
     ]
    }
   ],
   "source": [
    "out = []\n",
    "\n",
    "for data in datas:\n",
    "\n",
    "    for key, var in data.items():\n",
    "\n",
    "        print(key, np.mean(var))\n",
    "\n",
    "        out.append([key, np.mean(var)])\n",
    "\n",
    "\n",
    "df = pd.DataFrame(out)\n",
    "df.to_csv(\"output.csv\")"
   ]
  }
 ],
 "metadata": {
  "kernelspec": {
   "display_name": "mirror",
   "language": "python",
   "name": "python3"
  },
  "language_info": {
   "codemirror_mode": {
    "name": "ipython",
    "version": 3
   },
   "file_extension": ".py",
   "mimetype": "text/x-python",
   "name": "python",
   "nbconvert_exporter": "python",
   "pygments_lexer": "ipython3",
   "version": "3.12.7"
  }
 },
 "nbformat": 4,
 "nbformat_minor": 2
}
